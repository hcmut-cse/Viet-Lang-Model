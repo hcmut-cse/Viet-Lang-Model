{
 "cells": [
  {
   "cell_type": "code",
   "execution_count": 4,
   "metadata": {},
   "outputs": [],
   "source": [
    "import os"
   ]
  },
  {
   "cell_type": "code",
   "execution_count": 5,
   "metadata": {},
   "outputs": [
    {
     "name": "stderr",
     "output_type": "stream",
     "text": [
      "Using TensorFlow backend.\n"
     ]
    }
   ],
   "source": [
    "from keras.preprocessing.text import Tokenizer\n",
    "from keras.preprocessing.sequence import pad_sequences"
   ]
  },
  {
   "cell_type": "code",
   "execution_count": null,
   "metadata": {},
   "outputs": [],
   "source": [
    "from sklearn.model_selection import train_test_split"
   ]
  },
  {
   "cell_type": "code",
   "execution_count": 7,
   "metadata": {},
   "outputs": [],
   "source": [
    "import torch\n",
    "import torch.nn as nn\n",
    "import torch.nn.functional as F\n",
    "from torch.utils.data import DataLoader, TensorDataset, ConcatDataset"
   ]
  },
  {
   "cell_type": "code",
   "execution_count": null,
   "metadata": {},
   "outputs": [],
   "source": [
    "from tqdm import tqdm"
   ]
  },
  {
   "cell_type": "markdown",
   "metadata": {},
   "source": [
    "## Path"
   ]
  },
  {
   "cell_type": "code",
   "execution_count": 6,
   "metadata": {},
   "outputs": [],
   "source": [
    "DATA_PATH = '../data'\n",
    "CORPUS = os.path.join(DATA_PATH, 'vietnamese_names.txt')\n",
    "WEIGHT_PATH = '../weight'"
   ]
  },
  {
   "cell_type": "code",
   "execution_count": null,
   "metadata": {},
   "outputs": [],
   "source": [
    "if not os.path.isdir(WEIGHT_PATH):\n",
    "    os.makedirs(WEIGHT_PATH)"
   ]
  },
  {
   "cell_type": "markdown",
   "metadata": {},
   "source": [
    "## Preprocess data"
   ]
  },
  {
   "cell_type": "code",
   "execution_count": 3,
   "metadata": {},
   "outputs": [],
   "source": [
    "with open('mini.txt') as f:\n",
    "    data = f.read().split('\\n')"
   ]
  },
  {
   "cell_type": "code",
   "execution_count": 4,
   "metadata": {},
   "outputs": [],
   "source": [
    "def preprocess(sent):\n",
    "    sent = '^' + sent + '$'\n",
    "    return sent"
   ]
  },
  {
   "cell_type": "code",
   "execution_count": 5,
   "metadata": {},
   "outputs": [],
   "source": [
    "data = [preprocess(x) for x in data]"
   ]
  },
  {
   "cell_type": "markdown",
   "metadata": {},
   "source": [
    "## Tokenize"
   ]
  },
  {
   "cell_type": "code",
   "execution_count": 6,
   "metadata": {},
   "outputs": [],
   "source": [
    "tokenizer = Tokenizer(char_level=True, filters='', split='', oov_token='*')"
   ]
  },
  {
   "cell_type": "code",
   "execution_count": 7,
   "metadata": {},
   "outputs": [],
   "source": [
    "pad_token = 0\n",
    "unknow_token = 1"
   ]
  },
  {
   "cell_type": "code",
   "execution_count": 8,
   "metadata": {},
   "outputs": [],
   "source": [
    "tokenizer.fit_on_texts(data)"
   ]
  },
  {
   "cell_type": "code",
   "execution_count": 9,
   "metadata": {},
   "outputs": [],
   "source": [
    "seq_all = tokenizer.texts_to_sequences(data)"
   ]
  },
  {
   "cell_type": "code",
   "execution_count": 10,
   "metadata": {},
   "outputs": [],
   "source": [
    "len_all = [len(x) for x in seq_all]\n",
    "max_len = max(len_all)"
   ]
  },
  {
   "cell_type": "code",
   "execution_count": 11,
   "metadata": {},
   "outputs": [],
   "source": [
    "seq_all = pad_sequences(seq_all, maxlen=max_len, padding='post')"
   ]
  },
  {
   "cell_type": "code",
   "execution_count": 12,
   "metadata": {},
   "outputs": [],
   "source": [
    "X_all = seq_all[:,:-1]\n",
    "y_all = seq_all[:,1:]"
   ]
  },
  {
   "cell_type": "code",
   "execution_count": 13,
   "metadata": {},
   "outputs": [],
   "source": [
    "X_train, X_val, y_train, y_val = train_test_split(X_all, y_all, test_size=0.2, random_state=42)"
   ]
  },
  {
   "cell_type": "code",
   "execution_count": null,
   "metadata": {},
   "outputs": [],
   "source": [
    "# save tokenizer\n",
    "torch.save(tokenizer, os.path.join(WEIGHT_PATH, 'vocab.h5'))"
   ]
  },
  {
   "cell_type": "markdown",
   "metadata": {},
   "source": [
    "## Data loader"
   ]
  },
  {
   "cell_type": "code",
   "execution_count": 15,
   "metadata": {},
   "outputs": [],
   "source": [
    "def build_dataset_from_tensors(X, y):\n",
    "    ds = TensorDataset(X, y)\n",
    "    return ds"
   ]
  },
  {
   "cell_type": "code",
   "execution_count": 16,
   "metadata": {},
   "outputs": [],
   "source": [
    "X_train = torch.tensor(X_train).long()\n",
    "y_train = torch.tensor(y_train).long()\n",
    "X_val = torch.tensor(X_val).long()\n",
    "y_val = torch.tensor(y_val).long()"
   ]
  },
  {
   "cell_type": "code",
   "execution_count": 17,
   "metadata": {},
   "outputs": [],
   "source": [
    "train_ds = build_dataset_from_tensors(X_train, y_train)\n",
    "val_ds = build_dataset_from_tensors(X_val, y_val)"
   ]
  },
  {
   "cell_type": "code",
   "execution_count": 18,
   "metadata": {},
   "outputs": [],
   "source": [
    "batch_size = 32\n",
    "shuffle = True"
   ]
  },
  {
   "cell_type": "code",
   "execution_count": 19,
   "metadata": {},
   "outputs": [],
   "source": [
    "train_dl = DataLoader(train_ds, batch_size=batch_size, shuffle=shuffle)\n",
    "val_dl = DataLoader(val_ds, batch_size=batch_size, shuffle=shuffle)"
   ]
  },
  {
   "cell_type": "markdown",
   "metadata": {},
   "source": [
    "## Model"
   ]
  },
  {
   "cell_type": "code",
   "execution_count": 9,
   "metadata": {},
   "outputs": [],
   "source": [
    "class Model(nn.Module):\n",
    "    def __init__(self, vocab_size, embeding_size, hidden_size):\n",
    "        super(Model, self).__init__()\n",
    "        self.embeding = nn.Embedding(vocab_size, embeding_size)\n",
    "        self.lstm = nn.LSTM(embeding_size, hidden_size, num_layers=2, bidirectional=True, batch_first=True, dropout=0.1)\n",
    "        self.linear = nn.Linear(2*hidden_size, vocab_size)\n",
    "        \n",
    "    def forward(self, x):\n",
    "        # x: BxS\n",
    "        x = self.embeding(x) # BxSxE\n",
    "        x, _ = self.lstm(x) # BxSx2H\n",
    "        x = self.linear(x) # BxSxV\n",
    "        return x\n",
    "    \n",
    "    def predict(self, x):\n",
    "        x = self.forward(x)\n",
    "        x = F.softmax(x, dim=-1) # BxS\n",
    "        return x"
   ]
  },
  {
   "cell_type": "code",
   "execution_count": 34,
   "metadata": {},
   "outputs": [],
   "source": [
    "def forward_and_loss(model, x, y, loss_fn, pad_token):\n",
    "    out = model(x)\n",
    "    loss = loss_fn(out.view(-1, out.size(-1)), y.view(-1), ignore_index=pad_token)\n",
    "    return out, loss    "
   ]
  },
  {
   "cell_type": "code",
   "execution_count": 3,
   "metadata": {},
   "outputs": [],
   "source": [
    "def train_model(model, optim, train_iter, loss_fn, pad_token, weight_path=None):\n",
    "    total_loss = 0.0\n",
    "    model.train()\n",
    "    with tqdm(total=len(train_iter)) as pbar:\n",
    "        for x, y in train_iter: \n",
    "            optimizer.zero_grad()\n",
    "            _, loss = forward_and_loss(model, x, y, loss_fn, pad_token=pad_token)\n",
    "            loss.backward()\n",
    "            optimizer.step()\n",
    "            total_loss += loss.item()\n",
    "            pbar.update(1)\n",
    "            pbar.set_description(\"%-10s = %.6f  \" % ('loss', total_loss))\n",
    "            \n",
    "    # Save model\n",
    "    if weight_path is not None:\n",
    "        state = {\n",
    "            \"model\": model.state_dict(),\n",
    "            \"optim\": optimizer.state_dict()\n",
    "        }\n",
    "        \n",
    "        torch.save(state, weight_path)"
   ]
  },
  {
   "cell_type": "code",
   "execution_count": 2,
   "metadata": {},
   "outputs": [],
   "source": [
    "def evaluate_model(model, val_iter, pad_token):\n",
    "    model.eval()\n",
    "    with torch.no_grad(), tqdm(total=len(val_iter)) as pbar:\n",
    "        total_loss = 0.0\n",
    "        for x, y in val_iter:\n",
    "            _, loss = forward_and_loss(model, x, y, F.cross_entropy, pad_token=pad_token)\n",
    "            total_loss += loss.item()\n",
    "            pbar.update(1)\n",
    "            pbar.set_description(\"%-10s = %.6f  \" % ('val_loss', total_loss))"
   ]
  },
  {
   "cell_type": "markdown",
   "metadata": {},
   "source": [
    "## Training"
   ]
  },
  {
   "cell_type": "code",
   "execution_count": 26,
   "metadata": {},
   "outputs": [],
   "source": [
    "vocab_size = len(tokenizer.word_index) + 1\n",
    "embedding_size = 200\n",
    "hidden_size = 512\n",
    "learning_rate = 0.0001\n",
    "loss_fn = F.cross_entropy"
   ]
  },
  {
   "cell_type": "code",
   "execution_count": null,
   "metadata": {},
   "outputs": [],
   "source": [
    "model = Model(vocab_size, embedding_size, hidden_size)"
   ]
  },
  {
   "cell_type": "code",
   "execution_count": 28,
   "metadata": {},
   "outputs": [],
   "source": [
    "optimizer = torch.optim.Adam(model.parameters(), lr=learning_rate, betas=(0.9, 0.98), eps=1e-9)"
   ]
  },
  {
   "cell_type": "code",
   "execution_count": 1,
   "metadata": {},
   "outputs": [],
   "source": [
    "num_epoch = 100"
   ]
  },
  {
   "cell_type": "code",
   "execution_count": null,
   "metadata": {},
   "outputs": [],
   "source": [
    "for i in range(1, num_epoch+1):\n",
    "    print(\"\\nEpoch %02d\" % i, flush=True)\n",
    "    train_model(model, optimizer, train_dl, loss_fn, pad_token)\n",
    "    evaluate_model(model, val_dl, pad_token)    "
   ]
  },
  {
   "cell_type": "code",
   "execution_count": null,
   "metadata": {},
   "outputs": [],
   "source": [
    "torch.save(model.state_dict(), os.path.join(WEIGHT_PATH, 'model.h5'))"
   ]
  }
 ],
 "metadata": {
  "kernelspec": {
   "display_name": "Python 3",
   "language": "python",
   "name": "python3"
  },
  "language_info": {
   "codemirror_mode": {
    "name": "ipython",
    "version": 3
   },
   "file_extension": ".py",
   "mimetype": "text/x-python",
   "name": "python",
   "nbconvert_exporter": "python",
   "pygments_lexer": "ipython3",
   "version": "3.7.3"
  }
 },
 "nbformat": 4,
 "nbformat_minor": 2
}
